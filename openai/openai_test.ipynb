{
 "cells": [
  {
   "cell_type": "markdown",
   "id": "34cc0a3f-6fc5-4272-9d8e-e36c5d898256",
   "metadata": {},
   "source": [
    "Устанавливаем `openai` либу:"
   ]
  },
  {
   "cell_type": "code",
   "execution_count": null,
   "id": "5edcef83-0471-4aee-ab29-a5b48c8b3293",
   "metadata": {},
   "outputs": [],
   "source": [
    "!pip install openai"
   ]
  },
  {
   "cell_type": "markdown",
   "id": "58dbac93",
   "metadata": {},
   "source": [
    "Устанавливаем `dotenv` либу, если её ещё нет: "
   ]
  },
  {
   "cell_type": "code",
   "execution_count": null,
   "id": "8f741217",
   "metadata": {},
   "outputs": [],
   "source": [
    "!pip install python-dotenv"
   ]
  },
  {
   "cell_type": "code",
   "execution_count": 4,
   "id": "f2a94a02-01cf-45f2-a3bc-1fe60565c05b",
   "metadata": {},
   "outputs": [],
   "source": [
    "import openai\n",
    "import os\n",
    "from dotenv import load_dotenv"
   ]
  },
  {
   "cell_type": "markdown",
   "id": "fa2651f8",
   "metadata": {},
   "source": [
    "Импортируем токен из `.env` для подключения к `OpenAI`.\n",
    "\n",
    "Подробнее о `.env` [читай в мануале](https://github.com/yuramayer/project_bot/tree/manual?tab=readme-ov-file#1-env)"
   ]
  },
  {
   "cell_type": "markdown",
   "id": "21a0ed23",
   "metadata": {},
   "source": [
    "Я установил лимит для использования `API` - 3 $. Про цены запросов [почитайте по ссылке, там сложно](https://openai.com/api/pricing/?utm_source=chatgpt.com)"
   ]
  },
  {
   "cell_type": "code",
   "execution_count": 2,
   "id": "bbc7937f-ba24-467f-abbe-0ab3bc351d28",
   "metadata": {},
   "outputs": [
    {
     "data": {
      "text/plain": [
       "True"
      ]
     },
     "execution_count": 2,
     "metadata": {},
     "output_type": "execute_result"
    }
   ],
   "source": [
    "load_dotenv()"
   ]
  },
  {
   "cell_type": "code",
   "execution_count": 5,
   "id": "4268938b",
   "metadata": {},
   "outputs": [],
   "source": [
    "openai_key = os.getenv('OPENAI_TOKEN')"
   ]
  },
  {
   "cell_type": "code",
   "execution_count": 6,
   "id": "f88b76ea",
   "metadata": {},
   "outputs": [],
   "source": [
    "client = openai.OpenAI(api_key=openai_key)"
   ]
  },
  {
   "cell_type": "markdown",
   "id": "c919ac16",
   "metadata": {},
   "source": [
    "Протестируем метод из [главной страницы документации `openai`](https://github.com/openai/openai-python):"
   ]
  },
  {
   "cell_type": "code",
   "execution_count": 7,
   "id": "62134379",
   "metadata": {},
   "outputs": [],
   "source": [
    "place = 'Пушкинский музей'\n",
    "\n",
    "newchat = client.chat.completions.create(\n",
    "    messages = [\n",
    "        {\n",
    "            'role': 'user',\n",
    "            'content': f'Расскажи мне о достопримечательности в Москве под названием {place}'\n",
    "        }\n",
    "    ],\n",
    "    model='gpt-4o'\n",
    ")"
   ]
  },
  {
   "cell_type": "markdown",
   "id": "e81e6e0a",
   "metadata": {},
   "source": [
    "> Не забудь включить `VPN` на ПК 😉"
   ]
  },
  {
   "cell_type": "markdown",
   "id": "56b99183",
   "metadata": {},
   "source": [
    "Проверим, что вернула GPT в `newchat`:"
   ]
  },
  {
   "cell_type": "code",
   "execution_count": 11,
   "id": "7b186a59",
   "metadata": {},
   "outputs": [
    {
     "name": "stdout",
     "output_type": "stream",
     "text": [
      "('id', 'chatcmpl-Ac9Us2FznfQjw0LwNHJaipf0YfA4J')\n",
      "('choices', [Choice(finish_reason='stop', index=0, logprobs=None, message=ChatCompletionMessage(content='Пушкинский музей, более официально известный как Государственный музей изобразительных искусств имени А. С. Пушкина, является одним из крупнейших и наиболее значимых музеев в России. Расположенный в самом центре Москвы, он привлекает как местных жителей, так и туристов со всего мира.\\n\\nМузей был основан в начале 20 века и официально открыт в 1912 году. Изначально он задумывался как музей для образовательных целей, и его коллекции составлялись с учетом учебных интересов. Название в честь поэта Александра Сергеевича Пушкина музей получил в 1937 году, когда отмечалась 100-летняя годовщина со дня его смерти.\\n\\nКоллекция музея впечатляет своим разнообразием и богатством. Здесь представлены произведения искусства со всего мира, включая Древний Египет, античную Грецию и Рим, европейскую живопись и скульптуру разных эпох. Особое внимание заслуживает собрание западноевропейской живописи, в котором есть работы таких мастеров, как Рембрандт, Рубенс, Пикассо, Моне и многие другие.\\n\\nКроме основной экспозиции, Пушкинский музей часто организует временные выставки, на которых демонстрируются работы из других известных мировых музеев и частных коллекций. Музей также активно занимается научной и образовательной деятельностью, проводя лекции, концерты и мероприятия, направленные на популяризацию искусства и культуры.\\n\\nАрхитектурный ансамбль музея включает в себя несколько зданий, построенных в различных стилях, что само по себе является интересным объектом для изучения. Центральное здание, напоминающее античный храм, гармонично сочетается с окружающим его архитектурным контекстом.\\n\\nПосетить Пушкинский музей стоит не только ради его великолепной коллекции, но и чтобы прочувствовать атмосферу уважения к искусству и культуре, которую он создаёт.', refusal=None, role='assistant', audio=None, function_call=None, tool_calls=None))])\n",
      "('created', 1733656334)\n",
      "('model', 'gpt-4o-2024-08-06')\n",
      "('object', 'chat.completion')\n",
      "('service_tier', None)\n",
      "('system_fingerprint', 'fp_c7ca0ebaca')\n",
      "('usage', CompletionUsage(completion_tokens=431, prompt_tokens=26, total_tokens=457, completion_tokens_details=CompletionTokensDetails(accepted_prediction_tokens=0, audio_tokens=0, reasoning_tokens=0, rejected_prediction_tokens=0), prompt_tokens_details=PromptTokensDetails(audio_tokens=0, cached_tokens=0)))\n"
     ]
    }
   ],
   "source": [
    "for el in newchat:\n",
    "    print(el)"
   ]
  },
  {
   "cell_type": "markdown",
   "id": "1a6e2a4b",
   "metadata": {},
   "source": [
    "Ответ лежит в `newchat.choices`, внутри списка - в `message.content`. Посмотрим:"
   ]
  },
  {
   "cell_type": "code",
   "execution_count": 14,
   "id": "1a4b9757",
   "metadata": {},
   "outputs": [],
   "source": [
    "result = newchat.choices[0].message.content"
   ]
  },
  {
   "cell_type": "code",
   "execution_count": 15,
   "id": "9b9b3662",
   "metadata": {},
   "outputs": [
    {
     "name": "stdout",
     "output_type": "stream",
     "text": [
      "Пушкинский музей, более официально известный как Государственный музей изобразительных искусств имени А. С. Пушкина, является одним из крупнейших и наиболее значимых музеев в России. Расположенный в самом центре Москвы, он привлекает как местных жителей, так и туристов со всего мира.\n",
      "\n",
      "Музей был основан в начале 20 века и официально открыт в 1912 году. Изначально он задумывался как музей для образовательных целей, и его коллекции составлялись с учетом учебных интересов. Название в честь поэта Александра Сергеевича Пушкина музей получил в 1937 году, когда отмечалась 100-летняя годовщина со дня его смерти.\n",
      "\n",
      "Коллекция музея впечатляет своим разнообразием и богатством. Здесь представлены произведения искусства со всего мира, включая Древний Египет, античную Грецию и Рим, европейскую живопись и скульптуру разных эпох. Особое внимание заслуживает собрание западноевропейской живописи, в котором есть работы таких мастеров, как Рембрандт, Рубенс, Пикассо, Моне и многие другие.\n",
      "\n",
      "Кроме основной экспозиции, Пушкинский музей часто организует временные выставки, на которых демонстрируются работы из других известных мировых музеев и частных коллекций. Музей также активно занимается научной и образовательной деятельностью, проводя лекции, концерты и мероприятия, направленные на популяризацию искусства и культуры.\n",
      "\n",
      "Архитектурный ансамбль музея включает в себя несколько зданий, построенных в различных стилях, что само по себе является интересным объектом для изучения. Центральное здание, напоминающее античный храм, гармонично сочетается с окружающим его архитектурным контекстом.\n",
      "\n",
      "Посетить Пушкинский музей стоит не только ради его великолепной коллекции, но и чтобы прочувствовать атмосферу уважения к искусству и культуре, которую он создаёт.\n"
     ]
    }
   ],
   "source": [
    "print(result)"
   ]
  },
  {
   "cell_type": "markdown",
   "id": "db98293f",
   "metadata": {},
   "source": [
    "Одна пара \"вопрос-ответ\" такой длины стоит $0.004$ $"
   ]
  },
  {
   "cell_type": "markdown",
   "id": "d8d1f731",
   "metadata": {},
   "source": [
    " Потестируйте `openai API` сами 😉"
   ]
  }
 ],
 "metadata": {
  "kernelspec": {
   "display_name": "Python 3",
   "language": "python",
   "name": "python3"
  },
  "language_info": {
   "codemirror_mode": {
    "name": "ipython",
    "version": 3
   },
   "file_extension": ".py",
   "mimetype": "text/x-python",
   "name": "python",
   "nbconvert_exporter": "python",
   "pygments_lexer": "ipython3",
   "version": "3.12.4"
  }
 },
 "nbformat": 4,
 "nbformat_minor": 5
}
